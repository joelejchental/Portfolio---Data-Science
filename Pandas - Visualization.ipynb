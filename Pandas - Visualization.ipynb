{
 "cells": [
  {
   "cell_type": "markdown",
   "metadata": {},
   "source": [
    "# Pandas Visualization"
   ]
  },
  {
   "cell_type": "code",
   "execution_count": null,
   "metadata": {},
   "outputs": [],
   "source": [
    "# NHL_ATTENDANCE   https://data.world/makeovermonday/2019w1/workspace/file?filename=NHL+Attendance.xlsx\n",
    "# NHL_STANDINGS    http://inalitic.com/datasets/nhl_leaguestandings_data.html\n",
    "\n",
    "import pandas as pd\n",
    "import numpy as np\n",
    "import matplotlib.pyplot as plt\n",
    "\n",
    "nhl_attendance = pd.read_excel(\"C:/Users/joele/OneDrive/Documents/Data Science/Portfolio/NHL Attendance.xlsx\")\n",
    "nhl_standings = pd.read_csv('C:/Users/joele/OneDrive/Documents/Data Science/Portfolio/nhl_leaguestandings.csv')\n",
    "\n",
    "nhl_standings = nhl_standings[['SEASON', 'TEAM', 'W', 'L']]\n",
    "nhl_standings['TEAM'] = nhl_standings['TEAM'].str.strip()\n",
    "\n",
    "nhl_standings.replace({\"Chicago Blackhawks\": \"Blackhawks\", \"Montreal Canadiens\": \"Canadians\", 'Philadelphia Flyers': 'Flyers', \"Detroit Red Wings\": 'Red Wings', 'Toronto Maple Leafs': \"Maple Leafs\",\n",
    "                               'Tampa Bay Lightning': \"Lightning\", 'Minnesota Wild': 'Wild', 'Calgary Flames': 'Flames', 'Washington Capitals': 'Capitals', 'Pittsburgh Penguins': 'Penguins',\n",
    "                               'Buffalo Sabres': 'Sabres', 'St. Louis': 'Blues', 'Edmonton': 'Oilers', 'Los Angeles': 'Kings', 'Dallas': 'Stars', 'Vancouver': 'Canucks', 'Colorado Avalanche': 'Avalanche',\n",
    "                               'Vancouver Canucks': 'Canucks', 'Vegas Golden Knights': 'Golden Knights', 'New York Rangers': 'Rangers', 'Boston Bruins': 'Bruins', 'San Jose Sharks': 'Sharks',\n",
    "                               'Nashville': 'Predators', 'Columbus Blue Jackets': 'Blue Jackets', 'Anaheim': 'Ducks', 'Nashville Predators': 'Predators', 'Ottawa Senators': 'Senators', 'Colorado': 'Avalanche',\n",
    "                               'St. Louis Blues': 'Blues', 'Dallas Stars': 'Stars', 'Anaheim Ducks': 'Ducks', 'Los Angeles Kings': 'Kings', 'Edmonton Oilers': 'Oilers',\n",
    "                               'Winnipeg Jets': 'Jets', 'New Jersey Devils': 'Devils', 'Florida Panthers': 'Panthers', 'Carolina Hurricanes': 'Hurricanes', 'Arizona Coyotes': 'Coyotes', 'New York Islanders': 'Islanders'}, inplace=True)\n",
    "\n",
    "nhl_standings['W/L RATIO'] = nhl_standings['W'] / (nhl_standings['L'] + nhl_standings['W']) * 100\n",
    "nhl_standings.drop(['W', 'L'], axis=1, inplace=True)\n",
    "\n",
    "\n",
    "nhl_attendance = nhl_attendance[['SEASON', 'TEAM', 'HOME ATTENDANCE']]\n",
    "nhl_attendance['TEAM'] = nhl_attendance['TEAM'].str.strip()\n",
    "\n",
    "nhl_attendance.replace({\"Chicago\": \"Blackhawks\", \"Montreal\": \"Canadians\", 'Philadelphia': 'Flyers', \"Detroit\": 'Red Wings', 'Toronto': \"Maple Leafs\",\n",
    "                               'Tampa Bay': \"Lightning\", 'Minnesota': 'Wild', 'Calgary': 'Flames', 'Washington': 'Capitals', 'Pittsburgh': 'Penguins',\n",
    "                               'Buffalo': 'Sabres', 'St. Louis': 'Blues', 'Edmonton': 'Oilers', 'Los Angeles': 'Kings', 'Dallas': 'Stars', 'Vancouver': 'Canucks',\n",
    "                               'Vancouver': 'Canucks', 'Vegas': 'Golden Knights', 'NY Rangers': 'Rangers', 'Boston': 'Bruins', 'San Jose': 'Sharks',\n",
    "                               'Nashville': 'Predators', 'Columbus': 'Blue Jackets', 'Anaheim': 'Ducks', 'Ottawa': 'Senators', 'Colorado': 'Avalanche',\n",
    "                               'Winnipeg': 'Jets', 'New Jersey': 'Devils', 'Florida': 'Panthers', 'Carolina': 'Hurricanes', 'Arizona': 'Coyotes', 'NY Islanders': 'Islanders'}, inplace=True)\n",
    "\n",
    "def fix(season):\n",
    "    season = str(season)\n",
    "    season = season[:2] + season[-2:]\n",
    "    return season\n",
    "\n",
    "nhl_attendance['SEASON'] = nhl_attendance['SEASON'].apply(fix)\n",
    "\n",
    "nhl_attendance['SEASON'] = nhl_attendance['SEASON'].astype(str)\n",
    "nhl_standings['SEASON'] = nhl_standings['SEASON'].astype(str)\n",
    "\n",
    "nhl = pd.merge(nhl_attendance, nhl_standings, how='inner', on=['TEAM', 'SEASON'])\n",
    "nhl = nhl[nhl['SEASON'] == '2018']\n",
    "nhl = nhl.loc[nhl['TEAM'].isin(['Canadians','Maple Leafs', 'Flames', 'Oilers','Canucks', 'Senators', 'Jets'])]\n",
    "nhl.sort_values(by=['HOME ATTENDANCE'], ascending=True, inplace=True)\n",
    "nhl\n",
    "nhl['MAP'] = nhl['TEAM'].replace({'Jets': 1,\n",
    "                                  'Senators': 2,\n",
    "                                  'Canucks': 3,\n",
    "                                  'Oilers': 4,\n",
    "                                  'Flames': 5,\n",
    "                                  'Maple Leafs': 6,\n",
    "                                  'Canadians': 7})\n",
    "nhl.set_index(['MAP'], inplace=True)\n",
    "\n",
    "x = nhl.index\n",
    "y = nhl['HOME ATTENDANCE']\n",
    "z = [0]*7\n",
    "colors = ['red', 'blue', 'darkorange', 'olive', 'yellow', 'greenyellow', 'darkgreen',]\n",
    "\n",
    "dx = [0.5]*7\n",
    "dy = [20000]*7\n",
    "dz = nhl['W/L RATIO']\n",
    "\n",
    "plt.figure(figsize=(8, 12))\n",
    "ax = plt.axes(projection = '3d')\n",
    "ax.bar3d(x, y, z, dx, dy, dz, color=colors)\n",
    "ax.set_xticklabels(['Jets', 'Senators', 'Canucks', 'Oilers', 'Flames', 'Maple Leafs', 'Canadians'])\n",
    "ax.set_xlim(1, 7.5)\n",
    "#ax.set_ylim(1, 7.5)\n",
    "ax.set_xlabel(\"TEAM\", labelpad=12, fontweight=\"bold\")\n",
    "ax.set_zlabel(\"WIN / LOSS RATIO\", labelpad=12, fontweight=\"bold\")\n",
    "ax.set_ylabel(\"HOME ATTENDANCE\", labelpad=12, fontweight=\"bold\")\n",
    "ax.set_title(\"Canadian NHL TEAMS 2018 \\n \\n WINS/LOSSES Vs. HOME ATTENDANCE\", fontweight=\"bold\")"
   ]
  }
 ],
 "metadata": {
  "kernelspec": {
   "display_name": "Python 3.8.9 64-bit",
   "language": "python",
   "name": "python3"
  },
  "language_info": {
   "name": "python",
   "version": "3.8.9"
  },
  "orig_nbformat": 4,
  "vscode": {
   "interpreter": {
    "hash": "830c499bd51e56b73264b8e96684ee7af8ee94ec6d0d0620e907912305148bdf"
   }
  }
 },
 "nbformat": 4,
 "nbformat_minor": 2
}
