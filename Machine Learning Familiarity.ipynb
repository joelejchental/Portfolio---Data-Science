{
 "cells": [
  {
   "cell_type": "markdown",
   "metadata": {},
   "source": [
    "# Machine Learning"
   ]
  },
  {
   "cell_type": "code",
   "execution_count": 2,
   "metadata": {},
   "outputs": [
    {
     "ename": "ModuleNotFoundError",
     "evalue": "No module named 'adspy_shared_utilities'",
     "output_type": "error",
     "traceback": [
      "\u001b[1;31m---------------------------------------------------------------------------\u001b[0m",
      "\u001b[1;31mModuleNotFoundError\u001b[0m                       Traceback (most recent call last)",
      "\u001b[1;32mc:\\Users\\joele\\OneDrive\\Documents\\Data Science\\Portfolio\\Machine_Learning_Familiarity.ipynb Cell 2\u001b[0m in \u001b[0;36m<module>\u001b[1;34m\u001b[0m\n\u001b[0;32m     <a href='vscode-notebook-cell:/c%3A/Users/joele/OneDrive/Documents/Data%20Science/Portfolio/Machine_Learning_Familiarity.ipynb#W1sZmlsZQ%3D%3D?line=27'>28</a>\u001b[0m \u001b[39mfrom\u001b[39;00m \u001b[39msklearn\u001b[39;00m\u001b[39m.\u001b[39;00m\u001b[39mdatasets\u001b[39;00m \u001b[39mimport\u001b[39;00m make_blobs\n\u001b[0;32m     <a href='vscode-notebook-cell:/c%3A/Users/joele/OneDrive/Documents/Data%20Science/Portfolio/Machine_Learning_Familiarity.ipynb#W1sZmlsZQ%3D%3D?line=28'>29</a>\u001b[0m \u001b[39mfrom\u001b[39;00m \u001b[39msklearn\u001b[39;00m\u001b[39m.\u001b[39;00m\u001b[39mcluster\u001b[39;00m \u001b[39mimport\u001b[39;00m KMeans\n\u001b[1;32m---> <a href='vscode-notebook-cell:/c%3A/Users/joele/OneDrive/Documents/Data%20Science/Portfolio/Machine_Learning_Familiarity.ipynb#W1sZmlsZQ%3D%3D?line=29'>30</a>\u001b[0m \u001b[39mfrom\u001b[39;00m \u001b[39madspy_shared_utilities\u001b[39;00m \u001b[39mimport\u001b[39;00m plot_labelled_scatter\n",
      "\u001b[1;31mModuleNotFoundError\u001b[0m: No module named 'adspy_shared_utilities'"
     ]
    }
   ],
   "source": [
    "import numpy as np\n",
    "import pandas as pd\n",
    "import sklearn\n",
    "import matplotlib.pyplot as plt\n",
    "from sklearn.model_selection import train_test_split\n",
    "from sklearn.preprocessing import MinMaxScaler\n",
    "from sklearn.model_selection import cross_val_score\n",
    "from sklearn.dummy import DummyClassifier\n",
    "from sklearn.dummy import DummyRegressor\n",
    "from sklearn.metrics import confusion_matrix\n",
    "from sklearn.metrics import mean_squared_error, r2_score\n",
    "from sklearn.neighbors import KNeighborsClassifier\n",
    "from sklearn.linear_model import LogisticRegression\n",
    "from sklearn.svm import LinearSVC\n",
    "from sklearn.datasets import load_breast_cancer\n",
    "from sklearn.svm import SVC\n",
    "from sklearn.tree import DecisionTreeClassifier\n",
    "from sklearn.naive_bayes import GaussianNB\n",
    "from sklearn.ensemble import RandomForestClassifier\n",
    "from sklearn.ensemble import GradientBoostingClassifier\n",
    "from sklearn.neural_network import MLPClassifier\n",
    "from sklearn.neighbors import KNeighborsRegressor\n",
    "from sklearn.datasets import load_diabetes\n",
    "from sklearn.linear_model import Lasso\n",
    "from sklearn.linear_model import Ridge\n",
    "from sklearn.linear_model import LinearRegression\n",
    "from sklearn.preprocessing import PolynomialFeatures\n",
    "from sklearn.datasets import make_blobs\n",
    "from sklearn.cluster import KMeans\n",
    "from adspy_shared_utilities import plot_labelled_scatter\n",
    "\n"
   ]
  },
  {
   "cell_type": "markdown",
   "metadata": {},
   "source": [
    "# Classifiers"
   ]
  },
  {
   "cell_type": "markdown",
   "metadata": {},
   "source": [
    "## KNN Classifier "
   ]
  },
  {
   "cell_type": "markdown",
   "metadata": {},
   "source": [
    "### Compare to Dummy Classifier & Show Cross Validation (Score, ROC, Recall)"
   ]
  },
  {
   "cell_type": "code",
   "execution_count": null,
   "metadata": {},
   "outputs": [
    {
     "name": "stdout",
     "output_type": "stream",
     "text": [
      "Ideal # of neighbors is 13\n",
      "Training score : 0.969\n",
      "Test score : 0.979\n",
      "Mean 5-Fold Scores: 0.958\n",
      "Cross-validation (AUC): 0.998\n",
      "Cross-validation (recall): 0.989\n",
      "Dummy Classifier Test Score: 0.622\n"
     ]
    }
   ],
   "source": [
    "X, y = load_breast_cancer(return_X_y = True)\n",
    "X_train, X_test, y_train, y_test = train_test_split(X, y, random_state = 42)\n",
    "\n",
    "scaler = MinMaxScaler()\n",
    "X_train_scaled = scaler.fit_transform(X_train)\n",
    "X_test_scaled = scaler.transform(X_test)\n",
    "\n",
    "scores = []\n",
    "for neighbor in range(1, 20):\n",
    "    clf = KNeighborsClassifier(n_neighbors = neighbor).fit(X_train_scaled, y_train)\n",
    "    scores.append(clf.score(X_test_scaled, y_test))\n",
    "    # print('test score ' + str(neighbor) + ' neighbor: {:.3f}'.format(clf.score(X_test, y_test)))\n",
    "# print('The ideal # of neighbors is {}'.format(scores.index((max(scores)))+1))\n",
    "\n",
    "ideal_neighbor = scores.index((max(scores)))+1\n",
    "\n",
    "\n",
    "clf = KNeighborsClassifier(n_neighbors = ideal_neighbor).fit(X_train_scaled, y_train)\n",
    "\n",
    "print('Ideal # of neighbors is ' + str(ideal_neighbor))\n",
    "print('Training score : {:.3f}'.format(clf.score(X_train_scaled, y_train)))\n",
    "print('Test score : {:.3f}'.format(clf.score(X_test_scaled, y_test)))\n",
    "print(\"Mean 5-Fold Scores: {:.3f}\".format(np.mean(cross_val_score(clf, X_test_scaled, y_test, cv=5))))\n",
    "print('Cross-validation (AUC): {:.3f}'.format(np.mean( cross_val_score(clf, X_test_scaled, y_test, cv=5, scoring = 'roc_auc'))))\n",
    "print('Cross-validation (recall): {:.3f}'.format(np.mean(cross_val_score(clf, X_test_scaled, y_test, cv=5, scoring = 'recall'))))\n",
    "\n",
    "dummy_majority = DummyClassifier(strategy = 'most_frequent').fit(X_train_scaled, y_train)\n",
    "y_dummy_predictions = dummy_majority.predict(X_test_scaled)\n",
    "print('Dummy Classifier Test Score: {:.3f}'.format(dummy_majority.score(X_test_scaled, y_test)))"
   ]
  },
  {
   "cell_type": "markdown",
   "metadata": {},
   "source": [
    "# Linear Models for Classification\n"
   ]
  },
  {
   "cell_type": "markdown",
   "metadata": {},
   "source": [
    "## Logistic Regression Vs. Linear Support Vector Machine \n",
    "### Show Scaled Vs. Non-Scaled"
   ]
  },
  {
   "cell_type": "code",
   "execution_count": null,
   "metadata": {},
   "outputs": [],
   "source": [
    "X_cancer, y_cancer = load_breast_cancer(return_X_y = True)\n",
    "\n",
    "X_train, X_test, y_train, y_test = train_test_split(X_cancer, y_cancer, random_state = 42)\n",
    "\n",
    "scaler = MinMaxScaler()\n",
    "X_train_scaled = scaler.fit_transform(X_train)\n",
    "X_test_scaled = scaler.transform(X_test)\n",
    "\n",
    "# scores = []\n",
    "# scores_scaled = []\n",
    "# for c in np.arange(0.0001, 100):\n",
    "#     clf_scaled = LogisticRegression(C= c).fit(X_train_scaled, y_train)\n",
    "#     clf = LogisticRegression(C= c).fit(X_train, y_train)\n",
    "#     scores_scaled.append(clf_scaled.score(X_test_scaled, y_test))\n",
    "#     scores.append(clf.score(X_test, y_test))\n",
    "\n",
    "# print(scores_scaled.index((max(scores_scaled)))+1)\n",
    "# print(scores.index((max(scores)))+1) \n",
    "\n",
    "ideal_C = 3\n",
    "ideal_C_scaled = 1\n",
    "\n",
    "\n",
    "clf = LogisticRegression(C = ideal_C).fit(X_train, y_train)\n",
    "print('Accuracy of Logistic regression classifier on training set: {:.3f}'.format(clf.score(X_train, y_train)))\n",
    "print('Accuracy of Logistic regression classifier on test set: {:.3f}'.format(clf.score(X_test, y_test)))\n",
    "\n",
    "\n",
    "clf_scaled = LogisticRegression(C = ideal_C_scaled).fit(X_train_scaled, y_train)\n",
    "print('\\nAccuracy of Logistic regression classifier on training set (Scaled): {:.3f}'.format(clf_scaled.score(X_train_scaled, y_train)))\n",
    "print('Accuracy of Logistic regression classifier on test set (Scaled): {:.3f}'.format(clf_scaled.score(X_test_scaled, y_test)))\n",
    "\n",
    "# scores = []\n",
    "# scores_scaled = []\n",
    "# for c in np.arange(0.0001, 100):\n",
    "#     clf_scaled = LinearSVC(C= c).fit(X_train_scaled, y_train)\n",
    "#     clf = LinearSVC(C= c).fit(X_train, y_train)\n",
    "#     scores_scaled.append(clf_scaled.score(X_test_scaled, y_test))\n",
    "#     scores.append(clf.score(X_test, y_test))\n",
    "\n",
    "# print (scores_scaled.index((max(scores_scaled)))+1)\n",
    "# print(scores.index((max(scores)))+1) \n",
    "\n",
    "ideal_C = 2\n",
    "ideal_C_scaled = 21\n",
    "\n",
    "clf = LinearSVC(C = ideal_C).fit(X_train, y_train)\n",
    "print('\\nAccuracy of LSVM classifier on training set: {:.3f}'.format(clf.score(X_train, y_train)))\n",
    "print('Accuracy of LSVM classifier on test set: {:.3f}'.format(clf.score(X_test, y_test)))\n",
    "\n",
    "clf_scaled = LinearSVC(C = ideal_C_scaled).fit(X_train_scaled, y_train)\n",
    "print('\\nAccuracy of LSVM classifier on training set (Scaled): {:.3f}'.format(clf_scaled.score(X_train_scaled, y_train)))\n",
    "print('Accuracy of LSVM classifier on test set (Scaled): {:.3f}'.format(clf_scaled.score(X_test_scaled, y_test)))"
   ]
  },
  {
   "cell_type": "markdown",
   "metadata": {},
   "source": [
    "# Kernalized Support Vector Machine"
   ]
  },
  {
   "cell_type": "markdown",
   "metadata": {},
   "source": [
    "### Show Confusion Matrix & Dummy Classifier"
   ]
  },
  {
   "cell_type": "code",
   "execution_count": null,
   "metadata": {},
   "outputs": [
    {
     "name": "stdout",
     "output_type": "stream",
     "text": [
      "RBF-kernel SVC (with MinMax scaling) training set accuracy: 0.991\n",
      "RBF-kernel SVC (with MinMax scaling) test set accuracy: 0.986\n",
      "Ideal C parameter is 4\n",
      "Mean 5-Fold Scores: 0.965\n",
      "Confusion Matrix - Kernalized Support Vector Machine\n",
      " [[52  2]\n",
      " [ 0 89]]\n",
      "Dummy Classifier Test Score: 0.622\n",
      "Confusion Matrix - Dummy Classifier\n",
      " [[ 0 54]\n",
      " [ 0 89]]\n"
     ]
    }
   ],
   "source": [
    "X_cancer, y_cancer = load_breast_cancer(return_X_y = True)\n",
    "\n",
    "X_train, X_test, y_train, y_test = train_test_split(X_cancer, y_cancer, random_state = 42)\n",
    "\n",
    "scaler = MinMaxScaler()\n",
    "X_train_scaled = scaler.fit_transform(X_train)\n",
    "X_test_scaled = scaler.transform(X_test)\n",
    "\n",
    "scores = []\n",
    "for c in np.arange(0.0001, 100):\n",
    "    clf_scaled = SVC(C= c).fit(X_train_scaled, y_train)\n",
    "    clf = SVC(C= c, kernel='rbf').fit(X_train, y_train)\n",
    "    scores.append(clf_scaled.score(X_test_scaled, y_test))\n",
    "\n",
    "ideal_C = (scores.index((max(scores)))+1) \n",
    "\n",
    "clf = SVC(C=ideal_C, gamma=1).fit(X_train_scaled, y_train)\n",
    "print('RBF-kernel SVC (with MinMax scaling) training set accuracy: {:.3f}'.format(clf.score(X_train_scaled, y_train)))\n",
    "print('RBF-kernel SVC (with MinMax scaling) test set accuracy: {:.3f}'.format(clf.score(X_test_scaled, y_test)))\n",
    "print('Ideal C parameter is ' + str(ideal_C))\n",
    "\n",
    "cv_scores = cross_val_score(clf, X_test_scaled, y_test, cv=5)\n",
    "print(\"Mean 5-Fold Scores: {:.3f}\".format(np.mean(cv_scores)))\n",
    "clf_predicted = clf.predict(X_test_scaled)\n",
    "confusion = confusion_matrix(y_test, clf_predicted)\n",
    "print('Confusion Matrix - Kernalized Support Vector Machine\\n', confusion)\n",
    "\n",
    "\n",
    "dummy_majority = DummyClassifier(strategy = 'most_frequent').fit(X_train_scaled, y_train)\n",
    "y_dummy_predictions = dummy_majority.predict(X_test_scaled)\n",
    "print('Dummy Classifier Test Score: {:.3f}'.format(dummy_majority.score(X_test_scaled, y_test)))\n",
    "confusion = confusion_matrix(y_test, y_dummy_predictions)\n",
    "\n",
    "print('Confusion Matrix - Dummy Classifier\\n', confusion)\n"
   ]
  },
  {
   "cell_type": "markdown",
   "metadata": {},
   "source": [
    "# Decision Trees"
   ]
  },
  {
   "cell_type": "markdown",
   "metadata": {},
   "source": [
    "### Show Confusion Matrix & Cross Validation"
   ]
  },
  {
   "cell_type": "code",
   "execution_count": null,
   "metadata": {},
   "outputs": [
    {
     "name": "stdout",
     "output_type": "stream",
     "text": [
      "Accuracy of DT classifier on training set: 0.969\n",
      "Accuracy of DT classifier on test set: 0.958\n",
      "Mean 5-Fold Scores: 0.916\n",
      "Cross-validation (AUC): 0.946\n",
      "Cross-validation (recall): 0.943\n",
      "Decision tree classifier Confusion Matrix:\n",
      " [[54  0]\n",
      " [89  0]]\n"
     ]
    }
   ],
   "source": [
    "X, y = load_breast_cancer(return_X_y = True)\n",
    "\n",
    "X_train, X_test, y_train, y_test = train_test_split(X, y, random_state = 42)\n",
    "\n",
    "X_train_scaled = scaler.fit_transform(X_train)\n",
    "X_test_scaled = scaler.transform(X_test)\n",
    "\n",
    "clf = DecisionTreeClassifier(max_depth = 3, min_samples_leaf = 4).fit(X_train_scaled, y_train)\n",
    "\n",
    "print('Accuracy of DT classifier on training set: {:.3f}'.format(clf.score(X_train_scaled, y_train)))\n",
    "print('Accuracy of DT classifier on test set: {:.3f}'.format(clf.score(X_test_scaled, y_test)))\n",
    "print(\"Mean 5-Fold Scores: {:.3f}\".format(np.mean(cross_val_score(clf, X_test_scaled, y_test, cv=5))))\n",
    "print('Cross-validation (AUC): {:.3f}'.format(np.mean( cross_val_score(clf, X_test_scaled, y_test, cv=5, scoring = 'roc_auc'))))\n",
    "print('Cross-validation (recall): {:.3f}'.format(np.mean(cross_val_score(clf, X_test_scaled, y_test, cv=5, scoring = 'recall'))))\n",
    "clf_predicted = clf.predict(X_test)\n",
    "confusion = confusion_matrix(y_test, clf_predicted)\n",
    "print('Decision tree classifier Confusion Matrix:\\n', confusion)"
   ]
  },
  {
   "cell_type": "markdown",
   "metadata": {},
   "source": [
    "# Naive Bayes Vs. Random Forest Vs. Gradient-boosted decision trees"
   ]
  },
  {
   "cell_type": "code",
   "execution_count": null,
   "metadata": {},
   "outputs": [
    {
     "name": "stdout",
     "output_type": "stream",
     "text": [
      "Accuracy of GaussianNB classifier on training set: 0.979\n",
      "Accuracy of GaussianNB classifier on test set: 0.979\n",
      "Mean 5-Fold Scores: 0.965\n",
      "Cross-validation (AUC): 0.999\n",
      "Cross-validation (recall): 0.989\n",
      "GaussianNB classifier Confusion Matrix:\n",
      " [[52  2]\n",
      " [ 1 88]]\n"
     ]
    }
   ],
   "source": [
    "X, y = load_breast_cancer(return_X_y = True)\n",
    "\n",
    "X_train, X_test, y_train, y_test = train_test_split(X, y, random_state = 42)\n",
    "\n",
    "X_train_scaled = scaler.fit_transform(X_train)\n",
    "X_test_scaled = scaler.transform(X_test)\n",
    "\n",
    "clf = GaussianNB().fit(X_train_scaled, y_train)\n",
    "print('Accuracy of GaussianNB classifier on training set: {:.3f}'.format(clf.score(X_train_scaled, y_train)))\n",
    "print('Accuracy of GaussianNB classifier on test set: {:.3f}'.format(clf.score(X_test_scaled, y_test)))\n",
    "print(\"Mean 5-Fold Scores: {:.3f}\".format(np.mean(cross_val_score(clf, X_test_scaled, y_test, cv=5))))\n",
    "print('Cross-validation (AUC): {:.3f}'.format(np.mean( cross_val_score(clf, X_test_scaled, y_test, cv=5, scoring = 'roc_auc'))))\n",
    "print('Cross-validation (recall): {:.3f}'.format(np.mean(cross_val_score(clf, X_test_scaled, y_test, cv=5, scoring = 'recall'))))\n",
    "clf_predicted = clf.predict(X_test_scaled)\n",
    "confusion = confusion_matrix(y_test, clf_predicted)\n",
    "print('GaussianNB classifier Confusion Matrix:\\n', confusion)\n",
    "\n",
    "\n",
    "clf = RandomForestClassifier(max_features = 8, random_state = 0).fit(X_train_scaled, y_train)\n",
    "\n",
    "print('\\n\\n\\nAccuracy of Random Forest Classifier on training set: {:.3f}'.format(clf.score(X_train_scaled, y_train)))\n",
    "print('Accuracy of Random Forest Classifier on test set: {:.3f}'.format(clf.score(X_test_scaled, y_test)))\n",
    "print(\"Mean 5-Fold Scores: {:.3f}\".format(np.mean(cross_val_score(clf, X_test_scaled, y_test, cv=5))))\n",
    "print('Cross-validation (AUC): {:.3f}'.format(np.mean( cross_val_score(clf, X_test_scaled, y_test, cv=5, scoring = 'roc_auc'))))\n",
    "print('Cross-validation (recall): {:.3f}'.format(np.mean(cross_val_score(clf, X_test_scaled, y_test, cv=5, scoring = 'recall'))))\n",
    "clf_predicted = clf.predict(X_test_scaled)\n",
    "confusion = confusion_matrix(y_test, clf_predicted)\n",
    "print('Random Forest Classifier Confusion Matrix:\\n', confusion)\n",
    "\n",
    "clf = GradientBoostingClassifier(learning_rate = 0.01, max_depth = 2, random_state = 0)\n",
    "clf.fit(X_train_scaled, y_train)\n",
    "\n",
    "print('\\n\\n\\nAccuracy of Gradient Boosting Classifier on training set: {:.3f}'.format(clf.score(X_train_scaled, y_train)))\n",
    "print('Accuracy of Gradient Boosting Classifier on test set: {:.3f}'.format(clf.score(X_test_scaled, y_test)))\n",
    "print(\"Mean 5-Fold Scores: {:.3f}\".format(np.mean(cross_val_score(clf, X_test_scaled, y_test, cv=5))))\n",
    "print('Cross-validation (AUC): {:.3f}'.format(np.mean( cross_val_score(clf, X_test_scaled, y_test, cv=5, scoring = 'roc_auc'))))\n",
    "print('Cross-validation (recall): {:.3f}'.format(np.mean(cross_val_score(clf, X_test_scaled, y_test, cv=5, scoring = 'recall'))))\n",
    "clf_predicted = clf.predict(X_test_scaled)\n",
    "confusion = confusion_matrix(y_test, clf_predicted)\n",
    "print('Gradient Boosting Classifier Confusion Matrix:\\n', confusion)"
   ]
  },
  {
   "cell_type": "markdown",
   "metadata": {},
   "source": [
    "# Neural Network"
   ]
  },
  {
   "cell_type": "code",
   "execution_count": null,
   "metadata": {},
   "outputs": [
    {
     "name": "stdout",
     "output_type": "stream",
     "text": [
      "Accuracy of MLP Classifier on training set: 0.979\n",
      "Accuracy of MLP Classifier on test set: 0.979\n",
      "Mean 5-Fold Scores: 0.965\n",
      "Cross-validation (AUC): 0.999\n",
      "Cross-validation (recall): 0.989\n",
      "MLP Classifier Confusion Matrix:\n",
      " [[52  2]\n",
      " [ 1 88]]\n"
     ]
    }
   ],
   "source": [
    "X, y = load_breast_cancer(return_X_y = True)\n",
    "\n",
    "X_train, X_test, y_train, y_test = train_test_split(X, y, random_state = 42)\n",
    "\n",
    "X_train_scaled = scaler.fit_transform(X_train)\n",
    "X_test_scaled = scaler.transform(X_test)\n",
    "\n",
    "clf = MLPClassifier(hidden_layer_sizes = [100, 100], alpha = 5.0, solver='lbfgs').fit(X_train_scaled, y_train)\n",
    "print('Accuracy of MLP Classifier on training set: {:.3f}'.format(clf.score(X_train_scaled, y_train)))\n",
    "print('Accuracy of MLP Classifier on test set: {:.3f}'.format(clf.score(X_test_scaled, y_test)))\n",
    "print(\"Mean 5-Fold Scores: {:.3f}\".format(np.mean(cross_val_score(clf, X_test_scaled, y_test, cv=5))))\n",
    "print('Cross-validation (AUC): {:.3f}'.format(np.mean( cross_val_score(clf, X_test_scaled, y_test, cv=5, scoring = 'roc_auc'))))\n",
    "print('Cross-validation (recall): {:.3f}'.format(np.mean(cross_val_score(clf, X_test_scaled, y_test, cv=5, scoring = 'recall'))))\n",
    "clf_predicted = clf.predict(X_test_scaled)\n",
    "confusion = confusion_matrix(y_test, clf_predicted)\n",
    "print('MLP Classifier Confusion Matrix:\\n', confusion)"
   ]
  },
  {
   "cell_type": "markdown",
   "metadata": {},
   "source": [
    "# Regression"
   ]
  },
  {
   "cell_type": "markdown",
   "metadata": {},
   "source": [
    "### KNN Regression"
   ]
  },
  {
   "cell_type": "code",
   "execution_count": null,
   "metadata": {},
   "outputs": [
    {
     "ename": "NameError",
     "evalue": "name 'load_diabetes' is not defined",
     "output_type": "error",
     "traceback": [
      "\u001b[1;31m---------------------------------------------------------------------------\u001b[0m",
      "\u001b[1;31mNameError\u001b[0m                                 Traceback (most recent call last)",
      "\u001b[1;32mc:\\Users\\joele\\OneDrive\\Documents\\Data Science\\Portfolio\\Machine_Learning_Familiarity.ipynb Cell 22\u001b[0m in \u001b[0;36m<module>\u001b[1;34m\u001b[0m\n\u001b[1;32m----> <a href='vscode-notebook-cell:/c%3A/Users/joele/OneDrive/Documents/Data%20Science/Portfolio/Machine_Learning_Familiarity.ipynb#X30sZmlsZQ%3D%3D?line=0'>1</a>\u001b[0m X, y \u001b[39m=\u001b[39m load_diabetes(return_X_y \u001b[39m=\u001b[39m \u001b[39mTrue\u001b[39;00m)\n\u001b[0;32m      <a href='vscode-notebook-cell:/c%3A/Users/joele/OneDrive/Documents/Data%20Science/Portfolio/Machine_Learning_Familiarity.ipynb#X30sZmlsZQ%3D%3D?line=2'>3</a>\u001b[0m X_train, X_test, y_train, y_test \u001b[39m=\u001b[39m train_test_split(X, y, random_state \u001b[39m=\u001b[39m \u001b[39m42\u001b[39m)\n\u001b[0;32m      <a href='vscode-notebook-cell:/c%3A/Users/joele/OneDrive/Documents/Data%20Science/Portfolio/Machine_Learning_Familiarity.ipynb#X30sZmlsZQ%3D%3D?line=4'>5</a>\u001b[0m scaler \u001b[39m=\u001b[39m MinMaxScaler()\n",
      "\u001b[1;31mNameError\u001b[0m: name 'load_diabetes' is not defined"
     ]
    }
   ],
   "source": [
    "X, y = load_diabetes(return_X_y = True)\n",
    "\n",
    "X_train, X_test, y_train, y_test = train_test_split(X, y, random_state = 42)\n",
    "\n",
    "scaler = MinMaxScaler()\n",
    "X_train_scaled = scaler.fit_transform(X_train)\n",
    "X_test_scaled = scaler.transform(X_test)\n",
    "\n",
    "scores = []\n",
    "for neighbor in range(1, 20):\n",
    "    knnreg = KNeighborsRegressor(n_neighbors = neighbor).fit(X_train_scaled, y_train)\n",
    "    scores.append(knnreg.score(X_test_scaled, y_test))\n",
    "\n",
    "ideal_neighbor = scores.index((max(scores)))+1\n",
    "\n",
    "\n",
    "knnreg = KNeighborsRegressor(n_neighbors = ideal_neighbor).fit(X_train_scaled, y_train)\n",
    "y_predict = knnreg.predict(X_test)\n",
    "\n",
    "print('Ideal # of neighbors is ' + str(ideal_neighbor))\n",
    "print ('Score (train): {:.3f}'.format(knnreg.score(X_train_scaled, y_train)))\n",
    "print('Score (test): {:.3f}'.format(knnreg.score(X_test_scaled, y_test)))\n",
    "cv_scores = cross_val_score(knnreg, X_test_scaled, y_test, cv=5)\n",
    "print(\"Mean 5-Fold Scores: {:.3f}\".format(np.mean(cv_scores)))\n",
    "print(\"R2_score (test): {:.2f}\".format(r2_score(y_test, y_predict)))\n",
    "print(\"Mean squared error (test): {:.2f}\".format(mean_squared_error(y_test, y_predict)))"
   ]
  },
  {
   "cell_type": "markdown",
   "metadata": {},
   "source": [
    "# Polynomial Regression\n",
    "## Combined with Linear Regression, Ridge Regression, Lasso Regression"
   ]
  },
  {
   "cell_type": "code",
   "execution_count": null,
   "metadata": {},
   "outputs": [
    {
     "name": "stdout",
     "output_type": "stream",
     "text": [
      "Linear - R-squared score (training): 0.519\n",
      "Linear - R-squared score (test): 0.485\n",
      "\n",
      "\n",
      "poly deg 2 + Linear - R-squared score (training): -0.793\n",
      "poly deg 2 + Linear - R-squared score (test): -2.041\n",
      "\n",
      "\n",
      "poly deg 2 + ridge - R-squared score (training): 0.540\n",
      "poly deg 2 + ridge - R-squared score (test): 0.512\n",
      "Ideal alpha is 2\n",
      "\n",
      "\n",
      "poly deg 2 + lasso - R-squared score (training): 0.452\n",
      "poly deg 2 + lasso - R-squared score (test): 0.478\n",
      "poly deg 2 + lasso - Ideal alpha is 2\n"
     ]
    },
    {
     "name": "stderr",
     "output_type": "stream",
     "text": [
      "c:\\Users\\joele\\AppData\\Local\\Programs\\Python\\Python38\\lib\\site-packages\\sklearn\\linear_model\\_coordinate_descent.py:648: ConvergenceWarning: Objective did not converge. You might want to increase the number of iterations, check the scale of the features or consider increasing regularisation. Duality gap: 3.998e+05, tolerance: 2.001e+02\n",
      "  model = cd_fast.enet_coordinate_descent(\n"
     ]
    }
   ],
   "source": [
    "X, y = load_diabetes(return_X_y = True)\n",
    "\n",
    "X_train, X_test, y_train, y_test = train_test_split(X, y, random_state = 42)\n",
    "\n",
    "scaler = MinMaxScaler()\n",
    "X_train_scaled = scaler.fit_transform(X_train)\n",
    "X_test_scaled = scaler.transform(X_test)\n",
    "\n",
    "linreg = LinearRegression().fit(X_train_scaled, y_train)\n",
    "\n",
    "# print('linear model coeff (w): {}'.format(linreg.coef_))\n",
    "# print('linear model intercept (b): {:.3f}'.format(linreg.intercept_))\n",
    "print('Linear - R-squared score (training): {:.3f}'.format(linreg.score(X_train_scaled, y_train)))\n",
    "print('Linear - R-squared score (test): {:.3f}'.format(linreg.score(X_test_scaled, y_test)))\n",
    "\n",
    "\n",
    "poly = PolynomialFeatures(degree=2)\n",
    "X_train_scaled_poly = poly.fit_transform(X_train_scaled)\n",
    "X_test_scaled_poly = poly.transform(X_test_scaled)\n",
    "\n",
    "\n",
    "linreg_poly = LinearRegression().fit(X_train_scaled_poly, y_train)\n",
    "\n",
    "# print('\\n\\npoly deg 2 - linear model coeff (w): {}\\n'.format(linreg.coef_))\n",
    "# print('poly deg 2 - linear model intercept (b): {:.3f}'.format(linreg.intercept_))\n",
    "print('\\n\\npoly deg 2 + Linear - R-squared score (training): {:.3f}'.format(linreg_poly.score(X_train_scaled_poly, y_train)))\n",
    "print('poly deg 2 + Linear - R-squared score (test): {:.3f}'.format(linreg_poly.score(X_test_scaled_poly, y_test)))\n",
    "\n",
    "\n",
    "scores = []\n",
    "for alpha in np.arange(0.0001, 100):\n",
    "    linridge = Ridge(alpha= alpha).fit(X_train_scaled_poly, y_train)\n",
    "    scores.append(linridge.score(X_test_scaled_poly, y_test))\n",
    "\n",
    "ideal_alpha = (scores.index((max(scores)))+1) \n",
    "\n",
    "linridge = Ridge(alpha = ideal_alpha).fit(X_train_scaled_poly, y_train)\n",
    "\n",
    "\n",
    "# print('\\n\\npoly deg 2 + ridge - linear model coeff (w):\\n{}'.format(linreg.coef_))\n",
    "# print('poly deg 2 + ridge - linear model intercept (b): {:.3f}'.format(linreg.intercept_))\n",
    "print('\\n\\npoly deg 2 + ridge - R-squared score (training): {:.3f}'.format(linridge.score(X_train_scaled_poly, y_train)))\n",
    "print('poly deg 2 + ridge - R-squared score (test): {:.3f}'.format(linridge.score(X_test_scaled_poly, y_test)))\n",
    "print('Ideal alpha is ' + str(ideal_alpha))\n",
    "\n",
    "\n",
    "scores = []\n",
    "for alpha in np.arange(0.0001, 100):\n",
    "    linlasso = Lasso(alpha= alpha).fit(X_train_scaled_poly, y_train)\n",
    "    scores.append(linlasso.score(X_test_scaled_poly, y_test))\n",
    "\n",
    "ideal_alpha = (scores.index((max(scores)))+1) \n",
    "\n",
    "linlasso = Lasso(alpha = ideal_alpha).fit(X_train_scaled_poly, y_train)\n",
    "\n",
    "# print('\\n\\npoly deg 2 + lasso - linear model coeff (w):\\n{}'.format(linreg.coef_))\n",
    "# print('poly deg 2 + lasso - linear model intercept (b): {:.3f}'.format(linreg.intercept_))\n",
    "print('\\n\\npoly deg 2 + lasso - R-squared score (training): {:.3f}'.format(linlasso.score(X_train_scaled_poly, y_train)))\n",
    "print('poly deg 2 + lasso - R-squared score (test): {:.3f}'.format(linlasso.score(X_test_scaled_poly, y_test)))\n",
    "print('poly deg 2 + lasso - Ideal alpha is ' + str(ideal_alpha))"
   ]
  },
  {
   "cell_type": "markdown",
   "metadata": {},
   "source": [
    "# Clustering"
   ]
  },
  {
   "cell_type": "markdown",
   "metadata": {},
   "source": [
    "### K-Means"
   ]
  },
  {
   "cell_type": "code",
   "execution_count": null,
   "metadata": {},
   "outputs": [
    {
     "data": {
      "image/png": "[encoded data removed]",
      "text/plain": [
       "<Figure size 432x288 with 1 Axes>"
      ]
     },
     "metadata": {
      "needs_background": "light"
     },
     "output_type": "display_data"
    }
   ],
   "source": [
    "X, y = make_blobs(random_state = 100)\n",
    "\n",
    "kmeans = KMeans(n_clusters = 3)\n",
    "kmeans.fit(X)\n",
    "\n",
    "plot_labelled_scatter(X, kmeans.labels_, ['Cluster 1', 'Cluster 2', 'Cluster 3'])"
   ]
  },
  {
   "cell_type": "code",
   "execution_count": null,
   "metadata": {},
   "outputs": [],
   "source": []
  }
 ],
 "metadata": {
  "kernelspec": {
   "display_name": "Python 3.8.9 64-bit",
   "language": "python",
   "name": "python3"
  },
  "language_info": {
   "codemirror_mode": {
    "name": "ipython",
    "version": 3
   },
   "file_extension": ".py",
   "mimetype": "text/x-python",
   "name": "python",
   "nbconvert_exporter": "python",
   "pygments_lexer": "ipython3",
   "version": "3.8.9"
  },
  "orig_nbformat": 4,
  "vscode": {
   "interpreter": {
    "hash": "830c499bd51e56b73264b8e96684ee7af8ee94ec6d0d0620e907912305148bdf"
   }
  }
 },
 "nbformat": 4,
 "nbformat_minor": 2
}
